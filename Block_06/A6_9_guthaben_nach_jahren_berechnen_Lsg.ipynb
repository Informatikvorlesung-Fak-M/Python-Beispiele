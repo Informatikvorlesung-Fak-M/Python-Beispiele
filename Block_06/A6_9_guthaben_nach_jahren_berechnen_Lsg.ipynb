{
 "cells": [
  {
   "cell_type": "code",
   "execution_count": null,
   "metadata": {},
   "outputs": [],
   "source": [
    "\"\"\" Guthaben berechnen\n",
    "Das Programm fragt, wie viel monatlich gespart werden \n",
    "soll und berechnet dann das Guthaben nach 50 Jahren\n",
    "Programmierer: Martin Strube\n",
    "letzte Änderung: 03.09.2019\n",
    "\"\"\"\n",
    "# Es wird die Sparrate berechnet\n",
    "\n",
    "# Variablen deklarieren\n",
    "guthaben = 0\n",
    "sparrate = 0\n",
    "zinssatz = 7\n",
    "jahre = 50\n",
    "\n",
    "# Nutzer \n",
    "print(\"Wie viel möchten Sie monatlich sparen? 50€, 100€, 150€, 200€, 250€, 300€\")\n",
    "sparrate = int(input())\n",
    "\n",
    "# Überprüfen, ob die Eingabe mit einer der Sparraten übereinstimmt\n",
    "if (\n",
    "        sparrate==50 or sparrate==100 or sparrate==150 or sparrate==200 \n",
    "        or sparrate==250 or sparrate==300):\n",
    "    for i in range(1, jahre+1):\n",
    "        guthaben = (guthaben + 12*sparrate) * (100 + zinssatz) / 100\n",
    "    print(\"Das Guthaben nach\", jahre, \"Jahren beträgt:\", guthaben, \"€\")\n",
    "else:\n",
    "    print(\"Falsche Eingabe\")"
   ]
  },
  {
   "cell_type": "code",
   "execution_count": null,
   "metadata": {},
   "outputs": [],
   "source": []
  }
 ],
 "metadata": {
  "kernelspec": {
   "display_name": "Python 3",
   "language": "python",
   "name": "python3"
  },
  "language_info": {
   "codemirror_mode": {
    "name": "ipython",
    "version": 3
   },
   "file_extension": ".py",
   "mimetype": "text/x-python",
   "name": "python",
   "nbconvert_exporter": "python",
   "pygments_lexer": "ipython3",
   "version": "3.8.8"
  }
 },
 "nbformat": 4,
 "nbformat_minor": 4
}
