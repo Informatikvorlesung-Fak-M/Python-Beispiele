{
 "cells": [
  {
   "cell_type": "markdown",
   "metadata": {},
   "source": [
    "# Dieses Notebook zeigt an einem einfachen Beispiel, wie mit der Verwaltungsschale gearbeitet werden kann.\n",
    "\n",
    "Zuerst wird die Python Implementierung der AAS installiert.\n",
    "Quelle: https://github.com/eclipse-basyx/basyx-python-sdk\n"
   ]
  },
  {
   "cell_type": "code",
   "execution_count": null,
   "metadata": {
    "scrolled": true
   },
   "outputs": [],
   "source": [
    "pip install basyx-python-sdk"
   ]
  },
  {
   "cell_type": "markdown",
   "metadata": {},
   "source": [
    "Importieren Sie alle Eclipse BaSyx Python SDK Klassen aus dem model-Paket"
   ]
  },
  {
   "cell_type": "code",
   "execution_count": 29,
   "metadata": {},
   "outputs": [],
   "source": [
    "from basyx.aas import model"
   ]
  },
  {
   "cell_type": "markdown",
   "metadata": {},
   "source": [
    "In diesem Tutorial erhalten Sie eine schrittweise Anleitung, wie Sie eine Asset Administration Shell (AAS) und alle\n",
    "erforderlichen Objekte erzeugen. Zunächst benötigen Sie ein Asset, für das Sie eine AAS erstellen möchten, dargestellt durch ein Asset-Objekt.</br>\n",
    "Danach kann eine Asset Administration Shell erstellt werden, die einen Verweis auf dieses Asset enthält. Dann ist es möglich Submodels zum AAS hinzuzufügen. Die Submodels können SubmodelElements enthalten.</br>\n",
    "</br>\n",
    "### 1. Schritt eine einfache Verwaltungsschale erstellen:\n"
   ]
  },
  {
   "cell_type": "code",
   "execution_count": 30,
   "metadata": {},
   "outputs": [],
   "source": [
    "# Schritt 1.1: Erstellen eines Bezeichners für das Asset\n",
    "# Hier verwenden wir einen IRI-Bezeichner.\n",
    "identifier = model.Identifier(id_='https://acplt.org/Simple_Asset',\n",
    "                              id_type=model.IdentifierType.IRI)\n",
    " \n",
    "# Schritt 1.2: ein Asset erzeugen\n",
    "asset = model.Asset(\n",
    "    kind=model.AssetKind.INSTANCE,  # define that the Asset is of kind instance\n",
    "    identification=identifier  # set identifier\n",
    ")"
   ]
  },
  {
   "cell_type": "markdown",
   "metadata": {},
   "source": [
    "### 2. Schritt: Erstellen Sie eine einfache Asset-Verwaltungsschale, die einen Verweis auf das Asset enthält."
   ]
  },
  {
   "cell_type": "code",
   "execution_count": 31,
   "metadata": {},
   "outputs": [],
   "source": [
    "identifier = model.Identifier('https://acplt.org/Simple_AAS', model.IdentifierType.IRI)\n",
    "aas = model.AssetAdministrationShell(\n",
    "    identification=identifier,  # set identifier\n",
    "    asset=model.AASReference.from_referable(asset)  # generate a Reference object to the Asset (using its identifier)\n",
    ")"
   ]
  },
  {
   "cell_type": "markdown",
   "metadata": {},
   "source": [
    "### 3. Schritt: Erstellen eines einfachen Submodells ohne Submodel Elemente"
   ]
  },
  {
   "cell_type": "code",
   "execution_count": 32,
   "metadata": {},
   "outputs": [],
   "source": [
    "#Schritt 3.1: Erstellen des Submodel-Objekts\n",
    "identifier = model.Identifier('https://acplt.org/Simple_Submodel', model.IdentifierType.IRI)\n",
    "submodel = model.Submodel(\n",
    "    identification=identifier\n",
    ")\n",
    "\n",
    "# Schritt 3.2: Erstellen Sie einen Verweis auf dieses Teilmodell und fügen Sie es der Gruppe \"Teilmodell\" \n",
    "# der Asset-Verwaltungsschale hinzu.\n",
    "aas.submodel.add(model.AASReference.from_referable(submodel))"
   ]
  },
  {
   "cell_type": "markdown",
   "metadata": {},
   "source": [
    "### Schritt 4: Erstellen Sie eine einfache Eigenschaft und fügen Sie sie dem Untermodell hinzu"
   ]
  },
  {
   "cell_type": "code",
   "execution_count": 33,
   "metadata": {},
   "outputs": [],
   "source": [
    "# Schritt 4.1: Erstellen eines globalen Verweises auf eine semantische Beschreibung der Eigenschaft.\n",
    "# Ein globaler Verweis besteht aus einem Schlüssel, der auf die Adresse verweist, \n",
    "# unter der die semantische Beschreibung gespeichert ist.\n",
    "semantic_reference = model.Reference(\n",
    "    (model.Key(\n",
    "        type_=model.KeyElements.GLOBAL_REFERENCE,\n",
    "        local=False,\n",
    "        value='http://acplt.org/Properties/SimpleProperty',\n",
    "        id_type=model.KeyType.IRI\n",
    "    ),)\n",
    ")\n",
    "\n",
    "# Schritt 4.2: Erstellen der einfachen Eigenschaft\n",
    "property_ = model.Property(\n",
    "    id_short='ExampleProperty',  # Identifying string of the element within the Submodel namespace\n",
    "    value_type=model.datatypes.String,  # Data type of the value\n",
    "    value='exampleValue',  # Value of the Property\n",
    "    semantic_id=semantic_reference  # set the semantic reference\n",
    ")\n",
    "\n",
    "# Schritt 4.3: Hinzufügen der Eigenschaft zum Teilmodell\n",
    "submodel.submodel_element.add(property_)\n"
   ]
  },
  {
   "cell_type": "markdown",
   "metadata": {},
   "source": [
    "## Serialisierung\n",
    "\n",
    "Nun wollen wir in weiteren Schritten die eben erzeugte Verwaltungsschale serialisieren, um sie z.B. an Kunden weiterzugeben<p>\n",
    "`AASToJsonEncoder` aus dem Modul `aas.adapter.json` ist eine benutzerdefinierte JSONEncoder-Klasse zur Serialisierung\n",
    "von Asset Administration Shell-Daten in das offizielle JSON-Format gemäß\n",
    "'Details der Asset Administration Shell', Kapitel 5.5, unter Verwendung der in Python eingebauten JSON-Bibliothek. Die Methoden `json.dump()` und `json.dumps()` sind in der Lage, AAS-Objekte innerhalb der gedumpten Datenstrukrur korrekt abzubilden.\n",
    "</p>"
   ]
  },
  {
   "cell_type": "code",
   "execution_count": 34,
   "metadata": {},
   "outputs": [],
   "source": [
    "import json\n",
    "\n",
    "import basyx.aas.adapter.json\n",
    "import basyx.aas.adapter.xml"
   ]
  },
  {
   "cell_type": "code",
   "execution_count": 35,
   "metadata": {},
   "outputs": [
    {
     "name": "stdout",
     "output_type": "stream",
     "text": [
      "Abbildung der AAS:\n",
      "\n",
      "{\"idShort\": \"\", \"modelType\": {\"name\": \"AssetAdministrationShell\"}, \"identification\": {\"id\": \"https://acplt.org/Simple_AAS\", \"idType\": \"IRI\"}, \"asset\": {\"keys\": [{\"type\": \"Asset\", \"idType\": \"IRI\", \"value\": \"https://acplt.org/Simple_Asset\", \"local\": true}]}, \"submodels\": [{\"keys\": [{\"type\": \"Submodel\", \"idType\": \"IRI\", \"value\": \"https://acplt.org/Simple_Submodel\", \"local\": true}]}]}\n",
      "\n",
      "\n",
      "Abbildung der ExampleProperty:\n",
      "\n",
      "{\"idShort\": \"ExampleProperty\", \"modelType\": {\"name\": \"Property\"}, \"semanticId\": {\"keys\": [{\"type\": \"GlobalReference\", \"idType\": \"IRI\", \"value\": \"http://acplt.org/Properties/SimpleProperty\", \"local\": false}]}, \"value\": \"exampleValue\", \"valueType\": \"string\"}\n",
      "\n",
      "\n",
      "Abbildung des gesamten Submodels und der AAS:\n",
      "\n",
      "{\"the_submodel\": {\"idShort\": \"\", \"modelType\": {\"name\": \"Submodel\"}, \"identification\": {\"id\": \"https://acplt.org/Simple_Submodel\", \"idType\": \"IRI\"}, \"submodelElements\": [{\"idShort\": \"ExampleProperty\", \"modelType\": {\"name\": \"Property\"}, \"semanticId\": {\"keys\": [{\"type\": \"GlobalReference\", \"idType\": \"IRI\", \"value\": \"http://acplt.org/Properties/SimpleProperty\", \"local\": false}]}, \"value\": \"exampleValue\", \"valueType\": \"string\"}]}, \"the_aas\": {\"idShort\": \"\", \"modelType\": {\"name\": \"AssetAdministrationShell\"}, \"identification\": {\"id\": \"https://acplt.org/Simple_AAS\", \"idType\": \"IRI\"}, \"asset\": {\"keys\": [{\"type\": \"Asset\", \"idType\": \"IRI\", \"value\": \"https://acplt.org/Simple_Asset\", \"local\": true}]}, \"submodels\": [{\"keys\": [{\"type\": \"Submodel\", \"idType\": \"IRI\", \"value\": \"https://acplt.org/Simple_Submodel\", \"local\": true}]}]}}\n",
      "\n"
     ]
    }
   ],
   "source": [
    "aashell_json_string = json.dumps(aas, cls=basyx.aas.adapter.json.AASToJsonEncoder)\n",
    "\n",
    "property_json_string = json.dumps(submodel.submodel_element.get_referable('ExampleProperty'),\n",
    "                                  cls=basyx.aas.adapter.json.AASToJsonEncoder)\n",
    "\n",
    "# Mit dieser Technik können wir auch Python-Dict- und List-Datenstrukturen mit verschachtelten AAS-Objekten serialisieren:\n",
    "json_string = json.dumps({'the_submodel': submodel,\n",
    "                          'the_aas': aas\n",
    "                          },\n",
    "                         cls=basyx.aas.adapter.json.AASToJsonEncoder)\n",
    "\n",
    "print(\"Abbildung der AAS:\\n\")\n",
    "print(aashell_json_string)\n",
    "print(\"\\n\\nAbbildung der ExampleProperty:\\n\")\n",
    "print(property_json_string)\n",
    "print(\"\\n\\nAbbildung des gesamten Submodels und der AAS:\\n\")\n",
    "print(json_string)\n",
    "print()\n"
   ]
  },
  {
   "cell_type": "markdown",
   "metadata": {},
   "source": [
    "### Anlegen von JSON oder XML-Dateien zur Weitergabe"
   ]
  },
  {
   "cell_type": "code",
   "execution_count": 36,
   "metadata": {},
   "outputs": [],
   "source": [
    "# Schritt 1: Erstellen eines ObjectStore, der die zu serialisierenden Objekte enthält.\n",
    "# Weitere Informationen finden Sie in `tutorial_storage.py`.\n",
    "obj_store: model.DictObjectStore[model.Identifiable] = model.DictObjectStore()\n",
    "obj_store.add(asset)\n",
    "obj_store.add(submodel)\n",
    "obj_store.add(aas)\n",
    "\n",
    "# Schritt 2: Vergewissern Sie sich erneut, dass die Daten auf dem neuesten Stand sind.\n",
    "asset.update()\n",
    "submodel.update()\n",
    "aas.update()\n",
    "\n",
    "# Schritt 3: Schreiben des Inhalts des ObjectStore in eine JSON-Datei\n",
    "# Achtung! Es ist wichtig, die Datei im Textmodus mit utf-8-Kodierung zu öffnen!\n",
    "with open('data.json', 'w', encoding='utf-8') as json_file:\n",
    "    basyx.aas.adapter.json.write_aas_json_file(json_file, obj_store, indent=4)\n",
    "\n",
    "# Wir können das zusätzliche Schlüsselwortargument `indent=4` an `write_aas_json_file()` übergeben, \n",
    "# um die JSON-Datei auf besser lesbar zu formatieren (aber viel mehr Platz zu verbrauchen).\n",
    "\n",
    "# Schritt 4: Schreiben des Inhalts des ObjectStore in eine XML-Datei\n",
    "# Achtung! Für das Schreiben von XML-Dateien -- im Gegensatz zum Schreiben von JSON -- \n",
    "# muss die Datei im Binärmodus geöffnet werden! Der XML\n",
    "# Writer kümmert sich intern um die Zeichenkodierung.\n",
    "with open('data.xml', 'wb') as xml_file:\n",
    "    basyx.aas.adapter.xml.write_aas_xml_file(xml_file, obj_store)"
   ]
  },
  {
   "cell_type": "markdown",
   "metadata": {},
   "source": [
    "### Parsen von einzelnen Objekten oder benutzerdefinierten Datenstrukturen aus JSON- oder XML-Dateien"
   ]
  },
  {
   "cell_type": "code",
   "execution_count": null,
   "metadata": {},
   "outputs": [],
   "source": [
    "# Schritt 1: Lesen des Inhalts der JSON-Datei als ObjectStore\n",
    "# Achtung! Es ist wichtig, die Datei im Textmodus mit utf-8-Kodierung zu öffnen! Die Verwendung von 'utf-8-sig' wird empfohlen, um\n",
    "# Unicode Byte Order Marks (BOM) korrekt zu behandeln.\n",
    "with open('data.json', encoding='utf-8-sig') as json_file:\n",
    "    json_file_data = basyx.aas.adapter.json.read_aas_json_file(json_file)\n",
    "\n",
    "# Indem wir das Argument `failsafe=False` an `read_aas_json_file()` übergeben, können wir zum `StrictAASFromJsonDecoder` wechseln\n",
    "\n",
    "# Schritt 2: Lesen des Inhalts der XML-Datei als ObjectStore\n",
    "# Achtung! Zum Lesen von XML-Dateien -- im Gegensatz zum Lesen von JSON -- muss die Datei im Binärmodus geöffnet werden! Der XML\n",
    "# Writer kümmert sich intern um die Zeichenkodierung.\n",
    "with open('data.xml', 'rb') as xml_file:\n",
    "    xml_file_data = basyx.aas.adapter.xml.read_aas_xml_file(xml_file)\n",
    "\n",
    "# Auch hier können wir `failsafe=False` verwenden, um eine strengere Fehlermeldung im Parser einzuschalten.\n",
    "\n",
    "# Schritt 5.3: Abrufen der Objekte aus dem ObjectStore\n",
    "# Weitere Informationen über die verfügbaren Techniken finden Sie in `tutorial_storage.py`.\n",
    "submodel_from_xml = xml_file_data.get_identifiable(model.Identifier('https://acplt.org/Simple_Submodel',\n",
    "                                                                    model.IdentifierType.IRI))\n",
    "assert isinstance(submodel_from_xml, model.Submodel)"
   ]
  },
  {
   "cell_type": "markdown",
   "metadata": {},
   "source": [
    "## Auslesen von assx-Dateien\n",
    "\n",
    "Am Beispiel einer ASS von Firma Stahl soll gezeigt werden, wie der Datenaustausch und die Weiterverarbeitung funktioniert.\n",
    "Die Datei kann hier heruntergeladen werden:\n",
    "https://demo-digital-twin.r-stahl.com/t/205282?lang=de"
   ]
  },
  {
   "cell_type": "code",
   "execution_count": 9,
   "metadata": {},
   "outputs": [],
   "source": [
    "from basyx.aas.adapter import aasx\n",
    "\n",
    "objects = model.DictObjectStore()\n",
    "files = aasx.DictSupplementaryFileContainer()\n",
    "with aasx.AASXReader(\"RStahl_205282_Type.aasx\") as reader:\n",
    "    meta_data = reader.get_core_properties()\n",
    "    reader.read_into(objects, files) "
   ]
  },
  {
   "cell_type": "markdown",
   "metadata": {},
   "source": [
    "### Zunächst einfach als JSON ausgeben, das ist ja inzwischen ein bekanntes Format  "
   ]
  },
  {
   "cell_type": "code",
   "execution_count": 6,
   "metadata": {},
   "outputs": [],
   "source": [
    "with open('RStahl_205282_Type.json', 'w', encoding='utf-8') as json_file:\n",
    "    basyx.aas.adapter.json.write_aas_json_file(json_file, objects, indent=4)   "
   ]
  },
  {
   "cell_type": "markdown",
   "metadata": {},
   "source": [
    "### Nun können wir auf die einzelnen Objekte zugreifen:"
   ]
  },
  {
   "cell_type": "code",
   "execution_count": 28,
   "metadata": {},
   "outputs": [
    {
     "name": "stdout",
     "output_type": "stream",
     "text": [
      "Submodel[Identifier(IRI=https://demo-digital-twin.r-stahl.com/ids/sm/nameplate/205282)]\n"
     ]
    }
   ],
   "source": [
    "identifier = model.Identifier(id_='https://demo-digital-twin.r-stahl.com/ids/asset/205282',\n",
    "                              id_type=model.IdentifierType.IRI)\n",
    "asset = objects.get(identifier)\n",
    "\n",
    "\n",
    "identifier = model.Identifier(id_='https://demo-digital-twin.r-stahl.com/t205282',\n",
    "                              id_type=model.IdentifierType.IRI)\n",
    "aas = objects.get(identifier)\n",
    "\n",
    "\n",
    "identifier = model.Identifier(id_='https://demo-digital-twin.r-stahl.com/ids/sm/nameplate/205282',\n",
    "                              id_type=model.IdentifierType.IRI)\n",
    "submodel = objects.get(identifier)\n",
    "\n",
    "print(submodel)"
   ]
  }
 ],
 "metadata": {
  "kernelspec": {
   "display_name": "Python 3",
   "language": "python",
   "name": "python3"
  },
  "language_info": {
   "codemirror_mode": {
    "name": "ipython",
    "version": 3
   },
   "file_extension": ".py",
   "mimetype": "text/x-python",
   "name": "python",
   "nbconvert_exporter": "python",
   "pygments_lexer": "ipython3",
   "version": "3.8.5"
  }
 },
 "nbformat": 4,
 "nbformat_minor": 4
}
