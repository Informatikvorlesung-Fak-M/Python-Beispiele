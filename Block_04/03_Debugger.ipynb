{
 "cells": [
  {
   "cell_type": "markdown",
   "metadata": {},
   "source": [
    "# Fehlersuche"
   ]
  },
  {
   "cell_type": "markdown",
   "metadata": {},
   "source": [
    "## Aufgabe 4_2 \n",
    "Ein Programmierer hat folgenden Code geschrieben, um alle Primzahlen in einem Intervall auszugeben. In den Quellcode haben sich einige Fehler eingeschlichen. Finden Sie die fehlerhaften Zeilen und korrigieren Sie die Fehler. \n",
    "<br><b>Tipp: </b>\n",
    "Laden Sie den Code in Spyder und nutzen Sie den Debugger, um den Wert von n zu beobachten. Setzen Sie dazu einen Haltepunkt in die Zeile \"while (i < n):\""
   ]
  },
  {
   "cell_type": "code",
   "execution_count": null,
   "metadata": {
    "pixiedust": {
     "displayParams": {}
    }
   },
   "outputs": [
    {
     "data": {
      "text/html": [
       "<style type=\"text/css\">.pd_warning{display:none;}</style><div class=\"pd_warning\"><em>Hey, there's something awesome here! To see it, open this notebook outside GitHub, in a viewer like Jupyter</em></div>"
      ],
      "text/plain": [
       "<IPython.core.display.HTML object>"
      ]
     },
     "metadata": {
      "pixieapp_metadata": null
     },
     "output_type": "display_data"
    }
   ],
   "source": [
    "def ermittleZahlen(von, bis):\n",
    "    l = 0  #Hilfsvariable l\n",
    "    \n",
    "    #Schleife für das Testen jeder einzelnen Zahl im Intervall\n",
    "    int n = von\n",
    "    while (n <= bis)\n",
    "        zähler = 0;\n",
    "        #prüfen, ob eine Zahl dazu gehört\n",
    "        i = 2\n",
    "        while (i < n):\n",
    "            if(n % i == 0):\n",
    "                zähler += 1\n",
    "            i += 1\n",
    "        if (zähler = 0):\n",
    "            print (n, \"ist eine dieser Zahlen\" )\n",
    "        n += l\n",
    "    return 0 \n",
    "\n",
    "startwert = 11\n",
    "endwert = 50\n",
    "\n",
    "#Funktion für das Testen jeder einzelnen Zahl im Intervall\n",
    "ermittleZahlen(startwert, endwert);"
   ]
  },
  {
   "cell_type": "code",
   "execution_count": null,
   "metadata": {},
   "outputs": [],
   "source": []
  }
 ],
 "metadata": {
  "kernelspec": {
   "display_name": "Python 3",
   "language": "python",
   "name": "python3"
  },
  "language_info": {
   "codemirror_mode": {
    "name": "ipython",
    "version": 3
   },
   "file_extension": ".py",
   "mimetype": "text/x-python",
   "name": "python",
   "nbconvert_exporter": "python",
   "pygments_lexer": "ipython3",
   "version": "3.8.5"
  }
 },
 "nbformat": 4,
 "nbformat_minor": 2
}
