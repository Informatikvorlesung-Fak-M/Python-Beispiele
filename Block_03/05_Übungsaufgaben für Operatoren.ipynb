{
 "cells": [
  {
   "cell_type": "markdown",
   "metadata": {},
   "source": [
    "# Übungsaufgaben zur Anwendung von Operatoren\n",
    "Nutzen Sie die folgenden Aufgaben, um Ihre Kenntnisse in der Anwendung von Operatoren zu vertiefen."
   ]
  },
  {
   "cell_type": "markdown",
   "metadata": {},
   "source": [
    "## Aufgabe 3: \n",
    "Schreiben Sie ein Programm, welches den Nutzer zur Eingabe einer dreistelligen Ganzzahl auffordert. Speichern Sie diese Ganzzahl auf einer Variablen. Erweitern Sie Ihr Programm so, dass die Quersumme dieser Zahl berechnet und auf dem Bildschirm ausgegeben ist. Hinweis: Die Quersumme ist die Summe aus den einzelnen Ziffern einer Zahl."
   ]
  },
  {
   "cell_type": "code",
   "execution_count": null,
   "metadata": {},
   "outputs": [],
   "source": []
  },
  {
   "cell_type": "markdown",
   "metadata": {},
   "source": [
    "## Aufgabe 4: \n",
    "Schreiben Sie ein Programm, welches prüft, ob eine vom Anwender eingegebene Zahl ohne Rest durch 5 teilbar ist. Hinweis: Hierzu können Sie eine if-Bedingung nutzen, die wir in der Vorlesung noch nicht behandelt haben. Nutzen Sie die google-Suche, um ein Beispiel für die Anwendung zu finden."
   ]
  },
  {
   "cell_type": "code",
   "execution_count": null,
   "metadata": {},
   "outputs": [],
   "source": []
  },
  {
   "cell_type": "markdown",
   "metadata": {},
   "source": [
    "## Aufgabe 5: \n",
    "Erweitern Sie Ihr Programm nun so, dass geprüft wird, ob die eingegebene Zahl durch 5 teilbar und größer als 100 ist."
   ]
  },
  {
   "cell_type": "code",
   "execution_count": null,
   "metadata": {},
   "outputs": [],
   "source": []
  }
 ],
 "metadata": {
  "kernelspec": {
   "display_name": "Python 3",
   "language": "python",
   "name": "python3"
  },
  "language_info": {
   "codemirror_mode": {
    "name": "ipython",
    "version": 3
   },
   "file_extension": ".py",
   "mimetype": "text/x-python",
   "name": "python",
   "nbconvert_exporter": "python",
   "pygments_lexer": "ipython3",
   "version": "3.7.3"
  }
 },
 "nbformat": 4,
 "nbformat_minor": 2
}
