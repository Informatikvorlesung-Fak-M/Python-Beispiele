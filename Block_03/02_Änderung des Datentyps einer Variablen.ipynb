{
 "cells": [
  {
   "cell_type": "markdown",
   "metadata": {},
   "source": [
    "# Änderung des Datentyps einer Variablen\n",
    "Der Datentyp einer Variablen wird in Python meist implizit festgelegt. Dabei nimmt die Variablen den Datentyp des ihr zugewiesenen Wertes an. Ändert sich im Verlaufe der Ausführung des Quellcodes der Wert einer Variablen, so kann sich dadurch auch der Datentyp einer Variablen ändern."
   ]
  },
  {
   "cell_type": "code",
   "execution_count": null,
   "metadata": {},
   "outputs": [],
   "source": [
    "# Dieses Beispiel verdeutlicht die implizite Festlegung des Datentypen \n",
    "# einer Variablen\n",
    "# Autor: M. Strube\n",
    "# Erstellt: 07.10.2019\n",
    "# Zuletzt geändert: 07.10.2019\n",
    "\n",
    "# Variable, der durch Wertzuweisung eine ganze Zahl zugewiesen wird\n",
    "meine_Variable = 25\n",
    "# abfragen des Datentypen\n",
    "print(\"aktueller Datentyp:\")\n",
    "print(type(meine_Variable)) # aktuellen Datentyp ausgeben\n",
    "\n",
    "# jetzt ändern wir die Wertzuweisung auf eine Gleitkommazahl\n",
    "meine_Variable = 3.141\n",
    "print(\"aktueller Datentyp: \")\n",
    "print(type(meine_Variable)) # aktuellen Datentyp ausgeben\n",
    "\n",
    "# jetzt ändern wir die Wertzuweisung auf einen String\n",
    "meine_Variable = \"3.141\"\n",
    "print(\"aktueller Datentyp: \")\n",
    "print(type(meine_Variable)) # aktuellen Datentyp ausgeben"
   ]
  },
  {
   "cell_type": "markdown",
   "metadata": {},
   "source": [
    "## Aufgabe 2: Testen Sie, wie sich der Datentyp einer Variablen durch Rechenoperationen ändern kann.\n",
    "Weisen Sie einer Variablen zunächst einen ganzzahligen Wert zu. Fragen Sie im Anschluss daran den Datentyp ab und geben Sie diesen Datentyp auf dem Bildschirm aus. Ändern Sie den Wert der Variablen danach, indem Sie die Variable durch eine Gleitkommazahl dividieren. Ermitteln Sie nun erneut den Datentyp der Variablen.\n"
   ]
  },
  {
   "cell_type": "code",
   "execution_count": null,
   "metadata": {
    "scrolled": true
   },
   "outputs": [],
   "source": [
    "\n"
   ]
  }
 ],
 "metadata": {
  "kernelspec": {
   "display_name": "Python 3",
   "language": "python",
   "name": "python3"
  },
  "language_info": {
   "codemirror_mode": {
    "name": "ipython",
    "version": 3
   },
   "file_extension": ".py",
   "mimetype": "text/x-python",
   "name": "python",
   "nbconvert_exporter": "python",
   "pygments_lexer": "ipython3",
   "version": "3.7.3"
  }
 },
 "nbformat": 4,
 "nbformat_minor": 2
}
